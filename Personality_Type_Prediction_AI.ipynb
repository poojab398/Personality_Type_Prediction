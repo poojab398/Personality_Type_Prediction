{
 "cells": [
  {
   "cell_type": "markdown",
   "metadata": {},
   "source": [
    "# Artificial Intelligence Assignment - Personality Type Prediction\n",
    "\n",
    "Pooja Bhande(s5228784) and Vishal Mellahalli Siddegowda(s5227814)"
   ]
  },
  {
   "cell_type": "code",
   "execution_count": 1,
   "metadata": {},
   "outputs": [],
   "source": [
    "#Importing all the required libraries\n",
    "import xlrd\n",
    "import re\n",
    "import matplotlib.pyplot as plt\n",
    "%matplotlib inline\n",
    "import seaborn as sns\n",
    "import pandas as pd\n",
    "import numpy as np\n",
    "import string\n",
    "import nltk\n",
    "import pickle\n",
    "#import swifter\n",
    "from sklearn.utils import resample\n",
    "from sklearn.metrics import make_scorer, accuracy_score, f1_score, precision_score, recall_score, confusion_matrix, classification_report\n",
    "from sklearn.naive_bayes import GaussianNB\n",
    "from sklearn.svm import LinearSVC\n",
    "from sklearn.neighbors import KNeighborsClassifier\n",
    "from sklearn.neural_network import MLPClassifier\n",
    "from sklearn.model_selection import train_test_split\n",
    "from sklearn.utils import resample\n",
    "from sklearn.preprocessing import StandardScaler\n",
    "from collections import Counter\n",
    "from itertools import chain\n",
    "from sklearn.decomposition import PCA\n",
    "from sklearn.feature_extraction.text import TfidfVectorizer\n"
   ]
  },
  {
   "cell_type": "code",
   "execution_count": 2,
   "metadata": {},
   "outputs": [],
   "source": [
    "#Load the dataset\n",
    "df = pd.read_csv('mbti_1.csv')"
   ]
  },
  {
   "cell_type": "code",
   "execution_count": 3,
   "metadata": {},
   "outputs": [
    {
     "data": {
      "text/plain": [
       "(8675, 2)"
      ]
     },
     "execution_count": 3,
     "metadata": {},
     "output_type": "execute_result"
    }
   ],
   "source": [
    "#View shape of the dataset\n",
    "df.shape"
   ]
  },
  {
   "cell_type": "code",
   "execution_count": 4,
   "metadata": {},
   "outputs": [
    {
     "data": {
      "text/plain": [
       "[\"'http://www.youtube.com/watch?v=qsXHcwe3krw\",\n",
       " 'http://41.media.tumblr.com/tumblr_lfouy03PMA1qa1rooo1_500.jpg',\n",
       " 'enfp and intj moments  https://www.youtube.com/watch?v=iz7lE1g4XM4  sportscenter not top ten plays  https://www.youtube.com/watch?v=uCdfze1etec  pranks',\n",
       " 'What has been the most life-changing experience in your life?',\n",
       " 'http://www.youtube.com/watch?v=vXZeYwwRDw8   http://www.youtube.com/watch?v=u8ejam5DP3E  On repeat for most of today.',\n",
       " 'May the PerC Experience immerse you.',\n",
       " 'The last thing my INFJ friend posted on his facebook before committing suicide the next day. Rest in peace~   http://vimeo.com/22842206',\n",
       " \"Hello ENFJ7. Sorry to hear of your distress. It's only natural for a relationship to not be perfection all the time in every moment of existence. Try to figure the hard times as times of growth, as...\",\n",
       " '84389  84390  http://wallpaperpassion.com/upload/23700/friendship-boy-and-girl-wallpaper.jpg  http://assets.dornob.com/wp-content/uploads/2010/04/round-home-design.jpg ...',\n",
       " 'Welcome and stuff.',\n",
       " 'http://playeressence.com/wp-content/uploads/2013/08/RED-red-the-pokemon-master-32560474-450-338.jpg  Game. Set. Match.',\n",
       " \"Prozac, wellbrutin, at least thirty minutes of moving your legs (and I don't mean moving them while sitting in your same desk chair), weed in moderation (maybe try edibles as a healthier alternative...\",\n",
       " \"Basically come up with three items you've determined that each type (or whichever types you want to do) would more than likely use, given each types' cognitive functions and whatnot, when left by...\",\n",
       " 'All things in moderation.  Sims is indeed a video game, and a good one at that. Note: a good one at that is somewhat subjective in that I am not completely promoting the death of any given Sim...',\n",
       " 'Dear ENFP:  What were your favorite video games growing up and what are your now, current favorite video games? :cool:',\n",
       " 'https://www.youtube.com/watch?v=QyPqT8umzmY',\n",
       " 'It appears to be too late. :sad:',\n",
       " \"There's someone out there for everyone.\",\n",
       " 'Wait... I thought confidence was a good thing.',\n",
       " \"I just cherish the time of solitude b/c i revel within my inner world more whereas most other time i'd be workin... just enjoy the me time while you can. Don't worry, people will always be around to...\",\n",
       " \"Yo entp ladies... if you're into a complimentary personality,well, hey.\",\n",
       " '... when your main social outlet is xbox live conversations and even then you verbally fatigue quickly.',\n",
       " 'http://www.youtube.com/watch?v=gDhy7rdfm14  I really dig the part from 1:46 to 2:50',\n",
       " 'http://www.youtube.com/watch?v=msqXffgh7b8',\n",
       " 'Banned because this thread requires it of me.',\n",
       " 'Get high in backyard, roast and eat marshmellows in backyard while conversing over something intellectual, followed by massages and kisses.',\n",
       " 'http://www.youtube.com/watch?v=Mw7eoU3BMbE',\n",
       " 'http://www.youtube.com/watch?v=4V2uYORhQOk',\n",
       " 'http://www.youtube.com/watch?v=SlVmgFQQ0TI',\n",
       " \"Banned for too many b's in that sentence. How could you! Think of the B!\",\n",
       " 'Banned for watching movies in the corner with the dunces.',\n",
       " 'Banned because Health class clearly taught you nothing about peer pressure.',\n",
       " 'Banned for a whole host of reasons!',\n",
       " 'http://www.youtube.com/watch?v=IRcrv41hgz4',\n",
       " \"1) Two baby deer on left and right munching on a beetle in the middle.  2) Using their own blood, two cavemen diary today's latest happenings on their designated cave diary wall.  3) I see it as...\",\n",
       " 'a pokemon world  an infj society  everyone becomes an optimist',\n",
       " '49142',\n",
       " 'http://www.youtube.com/watch?v=ZRCEq_JFeFM',\n",
       " 'http://discovermagazine.com/2012/jul-aug/20-things-you-didnt-know-about-deserts/desert.jpg',\n",
       " 'http://oyster.ignimgs.com/mediawiki/apis.ign.com/pokemon-silver-version/d/dd/Ditto.gif',\n",
       " 'http://www.serebii.net/potw-dp/Scizor.jpg',\n",
       " \"Not all artists are artists because they draw. It's the idea that counts in forming something of your own... like a signature.\",\n",
       " \"Welcome to the robot ranks, person who downed my self-esteem cuz I'm not an avid signature artist like herself. :proud:\",\n",
       " 'Banned for taking all the room under my bed. Ya gotta learn to share with the roaches.',\n",
       " 'http://www.youtube.com/watch?v=w8IgImn57aQ',\n",
       " 'Banned for being too much of a thundering, grumbling kind of storm... yep.',\n",
       " \"Ahh... old high school music I haven't heard in ages.   http://www.youtube.com/watch?v=dcCRUPCdB1w\",\n",
       " \"I failed a public speaking class a few years ago and I've sort of learned what I could do better were I to be in that position again. A big part of my failure was just overloading myself with too...\",\n",
       " \"I like this person's mentality. He's a confirmed INTJ by the way. http://www.youtube.com/watch?v=hGKLI-GEc6M\",\n",
       " \"Move to the Denver area and start a new life for myself.'\"]"
      ]
     },
     "execution_count": 4,
     "metadata": {},
     "output_type": "execute_result"
    }
   ],
   "source": [
    "#Exploring the posts in the dataset\n",
    "df.iloc[0,1].split('|||')"
   ]
  },
  {
   "cell_type": "code",
   "execution_count": 5,
   "metadata": {},
   "outputs": [
    {
     "data": {
      "text/plain": [
       "50"
      ]
     },
     "execution_count": 5,
     "metadata": {},
     "output_type": "execute_result"
    }
   ],
   "source": [
    "#Number of posts in each row\n",
    "len(df.iloc[2,1].split('|||'))"
   ]
  },
  {
   "cell_type": "markdown",
   "metadata": {},
   "source": [
    "Each row of data comprises of 50 tweets per individual and every tweet is seperated by delimiter '|||'"
   ]
  },
  {
   "cell_type": "code",
   "execution_count": 6,
   "metadata": {},
   "outputs": [
    {
     "data": {
      "text/plain": [
       "array(['ENFJ', 'ENFP', 'ENTJ', 'ENTP', 'ESFJ', 'ESFP', 'ESTJ', 'ESTP',\n",
       "       'INFJ', 'INFP', 'INTJ', 'INTP', 'ISFJ', 'ISFP', 'ISTJ', 'ISTP'],\n",
       "      dtype=object)"
      ]
     },
     "execution_count": 6,
     "metadata": {},
     "output_type": "execute_result"
    }
   ],
   "source": [
    "#Finding unique values from TYPE column\n",
    "type1 = np.unique(np.array(df['type']))\n",
    "type1"
   ]
  },
  {
   "cell_type": "markdown",
   "metadata": {},
   "source": [
    "The unique values in type column corresponds to the 16 personality types identified in Myers-Briggs Type Indicator"
   ]
  },
  {
   "cell_type": "code",
   "execution_count": 7,
   "metadata": {},
   "outputs": [
    {
     "data": {
      "text/html": [
       "<div>\n",
       "<style scoped>\n",
       "    .dataframe tbody tr th:only-of-type {\n",
       "        vertical-align: middle;\n",
       "    }\n",
       "\n",
       "    .dataframe tbody tr th {\n",
       "        vertical-align: top;\n",
       "    }\n",
       "\n",
       "    .dataframe thead th {\n",
       "        text-align: right;\n",
       "    }\n",
       "</style>\n",
       "<table border=\"1\" class=\"dataframe\">\n",
       "  <thead>\n",
       "    <tr style=\"text-align: right;\">\n",
       "      <th></th>\n",
       "      <th>posts</th>\n",
       "    </tr>\n",
       "    <tr>\n",
       "      <th>type</th>\n",
       "      <th></th>\n",
       "    </tr>\n",
       "  </thead>\n",
       "  <tbody>\n",
       "    <tr>\n",
       "      <th>ENFJ</th>\n",
       "      <td>190</td>\n",
       "    </tr>\n",
       "    <tr>\n",
       "      <th>ENFP</th>\n",
       "      <td>675</td>\n",
       "    </tr>\n",
       "    <tr>\n",
       "      <th>ENTJ</th>\n",
       "      <td>231</td>\n",
       "    </tr>\n",
       "    <tr>\n",
       "      <th>ENTP</th>\n",
       "      <td>685</td>\n",
       "    </tr>\n",
       "    <tr>\n",
       "      <th>ESFJ</th>\n",
       "      <td>42</td>\n",
       "    </tr>\n",
       "    <tr>\n",
       "      <th>ESFP</th>\n",
       "      <td>48</td>\n",
       "    </tr>\n",
       "    <tr>\n",
       "      <th>ESTJ</th>\n",
       "      <td>39</td>\n",
       "    </tr>\n",
       "    <tr>\n",
       "      <th>ESTP</th>\n",
       "      <td>89</td>\n",
       "    </tr>\n",
       "    <tr>\n",
       "      <th>INFJ</th>\n",
       "      <td>1470</td>\n",
       "    </tr>\n",
       "    <tr>\n",
       "      <th>INFP</th>\n",
       "      <td>1832</td>\n",
       "    </tr>\n",
       "    <tr>\n",
       "      <th>INTJ</th>\n",
       "      <td>1091</td>\n",
       "    </tr>\n",
       "    <tr>\n",
       "      <th>INTP</th>\n",
       "      <td>1304</td>\n",
       "    </tr>\n",
       "    <tr>\n",
       "      <th>ISFJ</th>\n",
       "      <td>166</td>\n",
       "    </tr>\n",
       "    <tr>\n",
       "      <th>ISFP</th>\n",
       "      <td>271</td>\n",
       "    </tr>\n",
       "    <tr>\n",
       "      <th>ISTJ</th>\n",
       "      <td>205</td>\n",
       "    </tr>\n",
       "    <tr>\n",
       "      <th>ISTP</th>\n",
       "      <td>337</td>\n",
       "    </tr>\n",
       "  </tbody>\n",
       "</table>\n",
       "</div>"
      ],
      "text/plain": [
       "      posts\n",
       "type       \n",
       "ENFJ    190\n",
       "ENFP    675\n",
       "ENTJ    231\n",
       "ENTP    685\n",
       "ESFJ     42\n",
       "ESFP     48\n",
       "ESTJ     39\n",
       "ESTP     89\n",
       "INFJ   1470\n",
       "INFP   1832\n",
       "INTJ   1091\n",
       "INTP   1304\n",
       "ISFJ    166\n",
       "ISFP    271\n",
       "ISTJ    205\n",
       "ISTP    337"
      ]
     },
     "execution_count": 7,
     "metadata": {},
     "output_type": "execute_result"
    }
   ],
   "source": [
    "#Total number of posts in each Type\n",
    "total_Types = df.groupby(['type']).count()\n",
    "total_Types"
   ]
  },
  {
   "cell_type": "code",
   "execution_count": 8,
   "metadata": {},
   "outputs": [
    {
     "data": {
      "image/png": "[encoded data removed]",
      "text/plain": [
       "<Figure size 1080x288 with 1 Axes>"
      ]
     },
     "metadata": {
      "needs_background": "light"
     },
     "output_type": "display_data"
    }
   ],
   "source": [
    "#Ploting it in a graph for better visulization\n",
    "dims1 = (15.0, 4.0)\n",
    "fig, ax = plt.subplots(figsize=dims1)\n",
    "coolwarm = sns.color_palette(\"coolwarm\", 12)\n",
    "sns.set_palette(coolwarm)\n",
    "sns.countplot(x=\"type\", data=df, \\\n",
    "              order=[\"ENFJ\",\"ENFP\",\"ENTJ\",\"ENTP\",\"ESFJ\",\"ESFP\",\"ESTJ\",\"ESTP\",\\\n",
    "                     \"INFJ\",\"INFP\",\"INTJ\",\"INTP\",\"ISFJ\",\"ISFP\",\"ISTJ\",\"ISTP\"])\n",
    "plt.title(\"Distribution of 16 categories of MBTI\", fontsize=16)\n",
    "plt.xticks(fontsize=12)\n",
    "plt.yticks(fontsize=12);"
   ]
  },
  {
   "cell_type": "markdown",
   "metadata": {},
   "source": [
    "Exploring the dataset with individual axes of personalities ie., Introversion-Extroversion, Intitution-Sensing and so on. "
   ]
  },
  {
   "cell_type": "code",
   "execution_count": 9,
   "metadata": {},
   "outputs": [
    {
     "data": {
      "text/html": [
       "<div>\n",
       "<style scoped>\n",
       "    .dataframe tbody tr th:only-of-type {\n",
       "        vertical-align: middle;\n",
       "    }\n",
       "\n",
       "    .dataframe tbody tr th {\n",
       "        vertical-align: top;\n",
       "    }\n",
       "\n",
       "    .dataframe thead th {\n",
       "        text-align: right;\n",
       "    }\n",
       "</style>\n",
       "<table border=\"1\" class=\"dataframe\">\n",
       "  <thead>\n",
       "    <tr style=\"text-align: right;\">\n",
       "      <th></th>\n",
       "      <th>type</th>\n",
       "      <th>posts</th>\n",
       "      <th>I-E</th>\n",
       "      <th>N-S</th>\n",
       "      <th>T-F</th>\n",
       "      <th>J-P</th>\n",
       "    </tr>\n",
       "  </thead>\n",
       "  <tbody>\n",
       "    <tr>\n",
       "      <th>0</th>\n",
       "      <td>INFJ</td>\n",
       "      <td>'http://www.youtube.com/watch?v=qsXHcwe3krw|||...</td>\n",
       "      <td>Introversion</td>\n",
       "      <td>Intuition</td>\n",
       "      <td>Feeling</td>\n",
       "      <td>Judging</td>\n",
       "    </tr>\n",
       "    <tr>\n",
       "      <th>1</th>\n",
       "      <td>ENTP</td>\n",
       "      <td>'I'm finding the lack of me in these posts ver...</td>\n",
       "      <td>Extroversion</td>\n",
       "      <td>Intuition</td>\n",
       "      <td>Thinking</td>\n",
       "      <td>Perceiving</td>\n",
       "    </tr>\n",
       "    <tr>\n",
       "      <th>2</th>\n",
       "      <td>INTP</td>\n",
       "      <td>'Good one  _____   https://www.youtube.com/wat...</td>\n",
       "      <td>Introversion</td>\n",
       "      <td>Intuition</td>\n",
       "      <td>Thinking</td>\n",
       "      <td>Perceiving</td>\n",
       "    </tr>\n",
       "    <tr>\n",
       "      <th>3</th>\n",
       "      <td>INTJ</td>\n",
       "      <td>'Dear INTP,   I enjoyed our conversation the o...</td>\n",
       "      <td>Introversion</td>\n",
       "      <td>Intuition</td>\n",
       "      <td>Thinking</td>\n",
       "      <td>Judging</td>\n",
       "    </tr>\n",
       "    <tr>\n",
       "      <th>4</th>\n",
       "      <td>ENTJ</td>\n",
       "      <td>'You're fired.|||That's another silly misconce...</td>\n",
       "      <td>Extroversion</td>\n",
       "      <td>Intuition</td>\n",
       "      <td>Thinking</td>\n",
       "      <td>Judging</td>\n",
       "    </tr>\n",
       "  </tbody>\n",
       "</table>\n",
       "</div>"
      ],
      "text/plain": [
       "   type                                              posts           I-E  \\\n",
       "0  INFJ  'http://www.youtube.com/watch?v=qsXHcwe3krw|||...  Introversion   \n",
       "1  ENTP  'I'm finding the lack of me in these posts ver...  Extroversion   \n",
       "2  INTP  'Good one  _____   https://www.youtube.com/wat...  Introversion   \n",
       "3  INTJ  'Dear INTP,   I enjoyed our conversation the o...  Introversion   \n",
       "4  ENTJ  'You're fired.|||That's another silly misconce...  Extroversion   \n",
       "\n",
       "         N-S       T-F         J-P  \n",
       "0  Intuition   Feeling     Judging  \n",
       "1  Intuition  Thinking  Perceiving  \n",
       "2  Intuition  Thinking  Perceiving  \n",
       "3  Intuition  Thinking     Judging  \n",
       "4  Intuition  Thinking     Judging  "
      ]
     },
     "execution_count": 9,
     "metadata": {},
     "output_type": "execute_result"
    }
   ],
   "source": [
    "df['I-E']=df['type'].map(lambda x: 'Introversion' if x[0]=='I' else 'Extroversion')\n",
    "df['N-S']=df['type'].map(lambda x: 'Intuition' if x[1]=='N' else 'Sensing')\n",
    "df['T-F']=df['type'].map(lambda x: 'Thinking' if x[2]=='T' else 'Feeling')\n",
    "df['J-P']=df['type'].map(lambda x: 'Judging' if x[3]=='J' else 'Perceiving')\n",
    "df.head()"
   ]
  },
  {
   "cell_type": "code",
   "execution_count": 10,
   "metadata": {
    "scrolled": true
   },
   "outputs": [
    {
     "data": {
      "text/plain": [
       "(array([   0., 1000., 2000., 3000., 4000., 5000., 6000., 7000., 8000.]),\n",
       " <a list of 9 Text yticklabel objects>)"
      ]
     },
     "execution_count": 10,
     "metadata": {},
     "output_type": "execute_result"
    },
    {
     "data": {
      "image/png": "[encoded data removed]",
      "text/plain": [
       "<Figure size 432x288 with 1 Axes>"
      ]
     },
     "metadata": {
      "needs_background": "light"
     },
     "output_type": "display_data"
    }
   ],
   "source": [
    "#IE = sns.xkcd_palette(['red','orange'])\n",
    "#sns.set_palette(IE)\n",
    "IE = sns.color_palette(\"coolwarm\", 2)\n",
    "sns.set_palette(IE)\n",
    "sns.countplot(x='I-E', data=df, order = (['Introversion','Extroversion']))\n",
    "plt.title(\"Introversion vs Extroversion\", fontsize=16)\n",
    "plt.ylim(0,8000)\n",
    "plt.xticks(fontsize=12)\n",
    "plt.yticks(fontsize=12)"
   ]
  },
  {
   "cell_type": "markdown",
   "metadata": {},
   "source": [
    "The graph above shows the dataset is skewed more over Introversion than Extroversion personality types. "
   ]
  },
  {
   "cell_type": "code",
   "execution_count": 11,
   "metadata": {},
   "outputs": [
    {
     "data": {
      "text/plain": [
       "(array([   0., 1000., 2000., 3000., 4000., 5000., 6000., 7000., 8000.]),\n",
       " <a list of 9 Text yticklabel objects>)"
      ]
     },
     "execution_count": 11,
     "metadata": {},
     "output_type": "execute_result"
    },
    {
     "data": {
      "image/png": "[encoded data removed]",
      "text/plain": [
       "<Figure size 432x288 with 1 Axes>"
      ]
     },
     "metadata": {
      "needs_background": "light"
     },
     "output_type": "display_data"
    }
   ],
   "source": [
    "NS = sns.color_palette(\"coolwarm\", 1)\n",
    "sns.set_palette(NS)\n",
    "sns.countplot(x='N-S', data=df, order = (['Intuition','Sensing']))\n",
    "plt.title(\"Intiuition vs Sensing\", fontsize=16)\n",
    "plt.ylim(0,8000)\n",
    "plt.xticks(fontsize=12)\n",
    "plt.yticks(fontsize=12)"
   ]
  },
  {
   "cell_type": "markdown",
   "metadata": {},
   "source": [
    "The graph above shows the dataset is skewed more over Intution than Sensing personality types. "
   ]
  },
  {
   "cell_type": "code",
   "execution_count": 12,
   "metadata": {},
   "outputs": [
    {
     "data": {
      "text/plain": [
       "(array([   0., 1000., 2000., 3000., 4000., 5000., 6000., 7000., 8000.]),\n",
       " <a list of 9 Text yticklabel objects>)"
      ]
     },
     "execution_count": 12,
     "metadata": {},
     "output_type": "execute_result"
    },
    {
     "data": {
      "image/png": "[encoded data removed]",
      "text/plain": [
       "<Figure size 432x288 with 1 Axes>"
      ]
     },
     "metadata": {
      "needs_background": "light"
     },
     "output_type": "display_data"
    }
   ],
   "source": [
    "TF = sns.color_palette(\"coolwarm\", 3)\n",
    "sns.set_palette(TF)\n",
    "sns.countplot(x='T-F', data=df, order = (['Thinking','Feeling']))\n",
    "plt.title(\"Thinking vs Feeling\", fontsize=16)\n",
    "plt.ylim(0,8000)\n",
    "plt.xticks(fontsize=12)\n",
    "plt.yticks(fontsize=12)"
   ]
  },
  {
   "cell_type": "markdown",
   "metadata": {},
   "source": [
    "The graph above shows the dataset is almost balanced but slightly skewed more over Feeling than Thinking"
   ]
  },
  {
   "cell_type": "code",
   "execution_count": 13,
   "metadata": {},
   "outputs": [
    {
     "data": {
      "text/plain": [
       "(array([   0., 1000., 2000., 3000., 4000., 5000., 6000., 7000., 8000.]),\n",
       " <a list of 9 Text yticklabel objects>)"
      ]
     },
     "execution_count": 13,
     "metadata": {},
     "output_type": "execute_result"
    },
    {
     "data": {
      "image/png": "[encoded data removed]",
      "text/plain": [
       "<Figure size 432x288 with 1 Axes>"
      ]
     },
     "metadata": {
      "needs_background": "light"
     },
     "output_type": "display_data"
    }
   ],
   "source": [
    "JP = sns.color_palette(\"coolwarm\", 4)\n",
    "sns.set_palette(JP)\n",
    "sns.countplot(x='J-P', data=df, order = (['Judging','Perceiving']))\n",
    "plt.title(\"Judging vs Perceiving\", fontsize=16)\n",
    "plt.ylim(0,8000)\n",
    "plt.xticks(fontsize=12)\n",
    "plt.yticks(fontsize=12)"
   ]
  },
  {
   "cell_type": "markdown",
   "metadata": {},
   "source": [
    "The graph above shows the dataset is skewed more over Perceiving than Judging personality types. "
   ]
  },
  {
   "cell_type": "markdown",
   "metadata": {},
   "source": [
    "From the above exploratory data analysis performed on the dataset, it appears the dataset is highly imbalanced and may result in overfitting/underfitting problem of the majority/minority classes. In order to solve this problem, resampling method was applied to balance the dataset. Downsampling of majority class and Up-sampling of minority class has been implemented to balance the dataset. "
   ]
  },
  {
   "cell_type": "code",
   "execution_count": 14,
   "metadata": {},
   "outputs": [
    {
     "name": "stdout",
     "output_type": "stream",
     "text": [
      "ISTP    500\n",
      "INTP    500\n",
      "INFJ    500\n",
      "ENTP    500\n",
      "ESFP    500\n",
      "ESFJ    500\n",
      "ISTJ    500\n",
      "INTJ    500\n",
      "INFP    500\n",
      "ENTJ    500\n",
      "ESTP    500\n",
      "ISFP    500\n",
      "ENFP    500\n",
      "ESTJ    500\n",
      "ISFJ    500\n",
      "ENFJ    500\n",
      "Name: type, dtype: int64\n"
     ]
    },
    {
     "data": {
      "image/png": "[encoded data removed]",
      "text/plain": [
       "<Figure size 1080x288 with 1 Axes>"
      ]
     },
     "metadata": {
      "needs_background": "light"
     },
     "output_type": "display_data"
    }
   ],
   "source": [
    "#Applying Resampling method to balance the dataset. \n",
    "\n",
    "unique_cat = np.unique(df.type)\n",
    "\n",
    "col = ['type', 'posts']\n",
    "df1 = pd.DataFrame(columns = col)\n",
    "\n",
    "for u in unique_cat:\n",
    "    temp_1 = df[df.type == u]\n",
    "    temp_2 = resample(temp_1, n_samples=500)\n",
    "    df1 = pd.concat([df1, temp_2])\n",
    "\n",
    "print(df1['type'].value_counts())\n",
    "\n",
    "dims1 = (15.0, 4.0)\n",
    "fig, ax = plt.subplots(figsize=dims1)\n",
    "coolwarm = sns.color_palette(\"coolwarm\", 12)\n",
    "sns.set_palette(coolwarm)\n",
    "sns.countplot(x=\"type\", data=df1, \\\n",
    "              order=[\"ENFJ\",\"ENFP\",\"ENTJ\",\"ENTP\",\"ESFJ\",\"ESFP\",\"ESTJ\",\"ESTP\",\\\n",
    "                     \"INFJ\",\"INFP\",\"INTJ\",\"INTP\",\"ISFJ\",\"ISFP\",\"ISTJ\",\"ISTP\"])\n",
    "plt.title(\"Distribution of Myers-Briggs Types in the Dataset\", fontsize=16)\n",
    "plt.xticks(fontsize=12)\n",
    "plt.yticks(fontsize=12);"
   ]
  },
  {
   "cell_type": "markdown",
   "metadata": {},
   "source": [
    "# Data Cleaning"
   ]
  },
  {
   "cell_type": "code",
   "execution_count": 15,
   "metadata": {},
   "outputs": [],
   "source": [
    "# Function to convert all text into lower case, remove seperaters, hyperlinks, puntuations, numbers and stop words\n",
    "# within the text along with lemmatizing the text.\n",
    "\n",
    "wn = nltk.WordNetLemmatizer()\n",
    "stopwords = nltk.corpus.stopwords.words('english')\n",
    "# The personality type names also appeared in the tweets, adding them to stopwords \n",
    "#collection to avoid overfitting probelem\n",
    "types = ['infj', 'entp', 'intp', 'intj', 'entj', 'enfj', 'infp', 'enfp', 'isfp', \\\n",
    "         'istp', 'isfj', 'istj', 'estp', 'esfp', 'estj', 'esfj']\n",
    "for type in types:\n",
    "    stopwords.append(type)\n",
    "\n",
    "def data_clean(text):\n",
    "    text = text.lower()\n",
    "    text = text.replace('|||', ' ') #removing the pipes seperating each tweet.                                  \n",
    "    text = re.sub(r'\\bhttps?:\\/\\/.*?[\\r\\n]*? ', '', text, flags=re.MULTILINE)  # remove hyperlinks\n",
    "    text = text.translate(str.maketrans('', '', string.punctuation)) #remove punctuation\n",
    "    text = re.sub('\\w*\\d\\w*', '', text) # remove numbers\n",
    "    tokens = re.split('\\W+',text) \n",
    "    text = [wn.lemmatize(word,pos='v') for word in tokens if word not in stopwords]\n",
    "    text = [wn.lemmatize(word) for word in text if word not in stopwords] # round 2 of lemmatization to convert plurals\n",
    "    return text\n"
   ]
  },
  {
   "cell_type": "code",
   "execution_count": 16,
   "metadata": {},
   "outputs": [],
   "source": [
    "#Applying clean function on all the posts in the dataset\n",
    "df1['posts'] = df1['posts'].apply(lambda x: data_clean(x))"
   ]
  },
  {
   "cell_type": "code",
   "execution_count": 17,
   "metadata": {},
   "outputs": [],
   "source": [
    "#Saving a copy through pickle function of tokened posts for future reference.\n",
    "df1.to_pickle(\"tokened_posts.pkl\")"
   ]
  },
  {
   "cell_type": "code",
   "execution_count": 18,
   "metadata": {},
   "outputs": [],
   "source": [
    "# remove low frequency words\n",
    "# compute global word frequency\n",
    "c = Counter(chain.from_iterable(df1['posts']))\n",
    "# filter, join, and re-assign\n",
    "#words with frequency less than 50 in the document are removed from the dataset.\n",
    "df1['posts'] = [' '.join([j for j in i if c[j] > 50]) for i in df1['posts']]"
   ]
  },
  {
   "cell_type": "code",
   "execution_count": 19,
   "metadata": {},
   "outputs": [],
   "source": [
    "# Creating document term matrix using tfidf vectorizer \n",
    "cv = TfidfVectorizer(ngram_range=(1,2),max_features=1000)\n",
    "X = cv.fit_transform(df1.posts)\n",
    "dtm = pd.DataFrame(X.toarray(),columns=cv.get_feature_names())\n"
   ]
  },
  {
   "cell_type": "code",
   "execution_count": 20,
   "metadata": {},
   "outputs": [
    {
     "data": {
      "text/html": [
       "<div>\n",
       "<style scoped>\n",
       "    .dataframe tbody tr th:only-of-type {\n",
       "        vertical-align: middle;\n",
       "    }\n",
       "\n",
       "    .dataframe tbody tr th {\n",
       "        vertical-align: top;\n",
       "    }\n",
       "\n",
       "    .dataframe thead th {\n",
       "        text-align: right;\n",
       "    }\n",
       "</style>\n",
       "<table border=\"1\" class=\"dataframe\">\n",
       "  <thead>\n",
       "    <tr style=\"text-align: right;\">\n",
       "      <th></th>\n",
       "      <th>ability</th>\n",
       "      <th>able</th>\n",
       "      <th>absolutely</th>\n",
       "      <th>accept</th>\n",
       "      <th>account</th>\n",
       "      <th>accurate</th>\n",
       "      <th>across</th>\n",
       "      <th>act</th>\n",
       "      <th>action</th>\n",
       "      <th>actually</th>\n",
       "      <th>...</th>\n",
       "      <th>year old</th>\n",
       "      <th>yep</th>\n",
       "      <th>yes</th>\n",
       "      <th>yet</th>\n",
       "      <th>youd</th>\n",
       "      <th>youll</th>\n",
       "      <th>young</th>\n",
       "      <th>younger</th>\n",
       "      <th>youre</th>\n",
       "      <th>youve</th>\n",
       "    </tr>\n",
       "  </thead>\n",
       "  <tbody>\n",
       "    <tr>\n",
       "      <th>0</th>\n",
       "      <td>0.000000</td>\n",
       "      <td>0.000000</td>\n",
       "      <td>0.000000</td>\n",
       "      <td>0.000000</td>\n",
       "      <td>0.000000</td>\n",
       "      <td>0.000000</td>\n",
       "      <td>0.000000</td>\n",
       "      <td>0.025968</td>\n",
       "      <td>0.000000</td>\n",
       "      <td>0.033525</td>\n",
       "      <td>...</td>\n",
       "      <td>0.0</td>\n",
       "      <td>0.0</td>\n",
       "      <td>0.016992</td>\n",
       "      <td>0.000000</td>\n",
       "      <td>0.000000</td>\n",
       "      <td>0.032639</td>\n",
       "      <td>0.000000</td>\n",
       "      <td>0.033814</td>\n",
       "      <td>0.050403</td>\n",
       "      <td>0.000000</td>\n",
       "    </tr>\n",
       "    <tr>\n",
       "      <th>1</th>\n",
       "      <td>0.036672</td>\n",
       "      <td>0.000000</td>\n",
       "      <td>0.000000</td>\n",
       "      <td>0.000000</td>\n",
       "      <td>0.000000</td>\n",
       "      <td>0.000000</td>\n",
       "      <td>0.000000</td>\n",
       "      <td>0.000000</td>\n",
       "      <td>0.034393</td>\n",
       "      <td>0.035487</td>\n",
       "      <td>...</td>\n",
       "      <td>0.0</td>\n",
       "      <td>0.0</td>\n",
       "      <td>0.071947</td>\n",
       "      <td>0.027254</td>\n",
       "      <td>0.000000</td>\n",
       "      <td>0.000000</td>\n",
       "      <td>0.035351</td>\n",
       "      <td>0.000000</td>\n",
       "      <td>0.035568</td>\n",
       "      <td>0.059978</td>\n",
       "    </tr>\n",
       "    <tr>\n",
       "      <th>2</th>\n",
       "      <td>0.000000</td>\n",
       "      <td>0.000000</td>\n",
       "      <td>0.000000</td>\n",
       "      <td>0.000000</td>\n",
       "      <td>0.000000</td>\n",
       "      <td>0.000000</td>\n",
       "      <td>0.047770</td>\n",
       "      <td>0.000000</td>\n",
       "      <td>0.000000</td>\n",
       "      <td>0.182514</td>\n",
       "      <td>...</td>\n",
       "      <td>0.0</td>\n",
       "      <td>0.0</td>\n",
       "      <td>0.115635</td>\n",
       "      <td>0.035043</td>\n",
       "      <td>0.000000</td>\n",
       "      <td>0.000000</td>\n",
       "      <td>0.000000</td>\n",
       "      <td>0.000000</td>\n",
       "      <td>0.114332</td>\n",
       "      <td>0.038559</td>\n",
       "    </tr>\n",
       "    <tr>\n",
       "      <th>3</th>\n",
       "      <td>0.000000</td>\n",
       "      <td>0.000000</td>\n",
       "      <td>0.000000</td>\n",
       "      <td>0.000000</td>\n",
       "      <td>0.000000</td>\n",
       "      <td>0.000000</td>\n",
       "      <td>0.034577</td>\n",
       "      <td>0.025582</td>\n",
       "      <td>0.000000</td>\n",
       "      <td>0.033027</td>\n",
       "      <td>...</td>\n",
       "      <td>0.0</td>\n",
       "      <td>0.0</td>\n",
       "      <td>0.016740</td>\n",
       "      <td>0.000000</td>\n",
       "      <td>0.000000</td>\n",
       "      <td>0.032154</td>\n",
       "      <td>0.000000</td>\n",
       "      <td>0.000000</td>\n",
       "      <td>0.000000</td>\n",
       "      <td>0.000000</td>\n",
       "    </tr>\n",
       "    <tr>\n",
       "      <th>4</th>\n",
       "      <td>0.000000</td>\n",
       "      <td>0.000000</td>\n",
       "      <td>0.000000</td>\n",
       "      <td>0.037818</td>\n",
       "      <td>0.000000</td>\n",
       "      <td>0.000000</td>\n",
       "      <td>0.000000</td>\n",
       "      <td>0.000000</td>\n",
       "      <td>0.000000</td>\n",
       "      <td>0.019814</td>\n",
       "      <td>...</td>\n",
       "      <td>0.0</td>\n",
       "      <td>0.0</td>\n",
       "      <td>0.000000</td>\n",
       "      <td>0.060869</td>\n",
       "      <td>0.043874</td>\n",
       "      <td>0.000000</td>\n",
       "      <td>0.000000</td>\n",
       "      <td>0.000000</td>\n",
       "      <td>0.019860</td>\n",
       "      <td>0.000000</td>\n",
       "    </tr>\n",
       "    <tr>\n",
       "      <th>...</th>\n",
       "      <td>...</td>\n",
       "      <td>...</td>\n",
       "      <td>...</td>\n",
       "      <td>...</td>\n",
       "      <td>...</td>\n",
       "      <td>...</td>\n",
       "      <td>...</td>\n",
       "      <td>...</td>\n",
       "      <td>...</td>\n",
       "      <td>...</td>\n",
       "      <td>...</td>\n",
       "      <td>...</td>\n",
       "      <td>...</td>\n",
       "      <td>...</td>\n",
       "      <td>...</td>\n",
       "      <td>...</td>\n",
       "      <td>...</td>\n",
       "      <td>...</td>\n",
       "      <td>...</td>\n",
       "      <td>...</td>\n",
       "      <td>...</td>\n",
       "    </tr>\n",
       "    <tr>\n",
       "      <th>7995</th>\n",
       "      <td>0.000000</td>\n",
       "      <td>0.123372</td>\n",
       "      <td>0.000000</td>\n",
       "      <td>0.000000</td>\n",
       "      <td>0.000000</td>\n",
       "      <td>0.000000</td>\n",
       "      <td>0.000000</td>\n",
       "      <td>0.000000</td>\n",
       "      <td>0.000000</td>\n",
       "      <td>0.054645</td>\n",
       "      <td>...</td>\n",
       "      <td>0.0</td>\n",
       "      <td>0.0</td>\n",
       "      <td>0.000000</td>\n",
       "      <td>0.041967</td>\n",
       "      <td>0.000000</td>\n",
       "      <td>0.000000</td>\n",
       "      <td>0.000000</td>\n",
       "      <td>0.000000</td>\n",
       "      <td>0.027385</td>\n",
       "      <td>0.000000</td>\n",
       "    </tr>\n",
       "    <tr>\n",
       "      <th>7996</th>\n",
       "      <td>0.000000</td>\n",
       "      <td>0.000000</td>\n",
       "      <td>0.000000</td>\n",
       "      <td>0.000000</td>\n",
       "      <td>0.000000</td>\n",
       "      <td>0.039643</td>\n",
       "      <td>0.000000</td>\n",
       "      <td>0.028967</td>\n",
       "      <td>0.000000</td>\n",
       "      <td>0.037397</td>\n",
       "      <td>...</td>\n",
       "      <td>0.0</td>\n",
       "      <td>0.0</td>\n",
       "      <td>0.037910</td>\n",
       "      <td>0.000000</td>\n",
       "      <td>0.000000</td>\n",
       "      <td>0.000000</td>\n",
       "      <td>0.000000</td>\n",
       "      <td>0.000000</td>\n",
       "      <td>0.000000</td>\n",
       "      <td>0.000000</td>\n",
       "    </tr>\n",
       "    <tr>\n",
       "      <th>7997</th>\n",
       "      <td>0.000000</td>\n",
       "      <td>0.000000</td>\n",
       "      <td>0.069351</td>\n",
       "      <td>0.074339</td>\n",
       "      <td>0.046366</td>\n",
       "      <td>0.041288</td>\n",
       "      <td>0.000000</td>\n",
       "      <td>0.000000</td>\n",
       "      <td>0.000000</td>\n",
       "      <td>0.019475</td>\n",
       "      <td>...</td>\n",
       "      <td>0.0</td>\n",
       "      <td>0.0</td>\n",
       "      <td>0.000000</td>\n",
       "      <td>0.000000</td>\n",
       "      <td>0.000000</td>\n",
       "      <td>0.075840</td>\n",
       "      <td>0.000000</td>\n",
       "      <td>0.000000</td>\n",
       "      <td>0.019519</td>\n",
       "      <td>0.000000</td>\n",
       "    </tr>\n",
       "    <tr>\n",
       "      <th>7998</th>\n",
       "      <td>0.000000</td>\n",
       "      <td>0.000000</td>\n",
       "      <td>0.000000</td>\n",
       "      <td>0.000000</td>\n",
       "      <td>0.000000</td>\n",
       "      <td>0.000000</td>\n",
       "      <td>0.000000</td>\n",
       "      <td>0.000000</td>\n",
       "      <td>0.000000</td>\n",
       "      <td>0.000000</td>\n",
       "      <td>...</td>\n",
       "      <td>0.0</td>\n",
       "      <td>0.0</td>\n",
       "      <td>0.030183</td>\n",
       "      <td>0.000000</td>\n",
       "      <td>0.000000</td>\n",
       "      <td>0.000000</td>\n",
       "      <td>0.000000</td>\n",
       "      <td>0.000000</td>\n",
       "      <td>0.000000</td>\n",
       "      <td>0.000000</td>\n",
       "    </tr>\n",
       "    <tr>\n",
       "      <th>7999</th>\n",
       "      <td>0.000000</td>\n",
       "      <td>0.000000</td>\n",
       "      <td>0.000000</td>\n",
       "      <td>0.000000</td>\n",
       "      <td>0.000000</td>\n",
       "      <td>0.000000</td>\n",
       "      <td>0.000000</td>\n",
       "      <td>0.059369</td>\n",
       "      <td>0.000000</td>\n",
       "      <td>0.000000</td>\n",
       "      <td>...</td>\n",
       "      <td>0.0</td>\n",
       "      <td>0.0</td>\n",
       "      <td>0.077699</td>\n",
       "      <td>0.000000</td>\n",
       "      <td>0.000000</td>\n",
       "      <td>0.037311</td>\n",
       "      <td>0.000000</td>\n",
       "      <td>0.000000</td>\n",
       "      <td>0.019206</td>\n",
       "      <td>0.000000</td>\n",
       "    </tr>\n",
       "  </tbody>\n",
       "</table>\n",
       "<p>8000 rows × 1000 columns</p>\n",
       "</div>"
      ],
      "text/plain": [
       "       ability      able  absolutely    accept   account  accurate    across  \\\n",
       "0     0.000000  0.000000    0.000000  0.000000  0.000000  0.000000  0.000000   \n",
       "1     0.036672  0.000000    0.000000  0.000000  0.000000  0.000000  0.000000   \n",
       "2     0.000000  0.000000    0.000000  0.000000  0.000000  0.000000  0.047770   \n",
       "3     0.000000  0.000000    0.000000  0.000000  0.000000  0.000000  0.034577   \n",
       "4     0.000000  0.000000    0.000000  0.037818  0.000000  0.000000  0.000000   \n",
       "...        ...       ...         ...       ...       ...       ...       ...   \n",
       "7995  0.000000  0.123372    0.000000  0.000000  0.000000  0.000000  0.000000   \n",
       "7996  0.000000  0.000000    0.000000  0.000000  0.000000  0.039643  0.000000   \n",
       "7997  0.000000  0.000000    0.069351  0.074339  0.046366  0.041288  0.000000   \n",
       "7998  0.000000  0.000000    0.000000  0.000000  0.000000  0.000000  0.000000   \n",
       "7999  0.000000  0.000000    0.000000  0.000000  0.000000  0.000000  0.000000   \n",
       "\n",
       "           act    action  actually  ...  year old  yep       yes       yet  \\\n",
       "0     0.025968  0.000000  0.033525  ...       0.0  0.0  0.016992  0.000000   \n",
       "1     0.000000  0.034393  0.035487  ...       0.0  0.0  0.071947  0.027254   \n",
       "2     0.000000  0.000000  0.182514  ...       0.0  0.0  0.115635  0.035043   \n",
       "3     0.025582  0.000000  0.033027  ...       0.0  0.0  0.016740  0.000000   \n",
       "4     0.000000  0.000000  0.019814  ...       0.0  0.0  0.000000  0.060869   \n",
       "...        ...       ...       ...  ...       ...  ...       ...       ...   \n",
       "7995  0.000000  0.000000  0.054645  ...       0.0  0.0  0.000000  0.041967   \n",
       "7996  0.028967  0.000000  0.037397  ...       0.0  0.0  0.037910  0.000000   \n",
       "7997  0.000000  0.000000  0.019475  ...       0.0  0.0  0.000000  0.000000   \n",
       "7998  0.000000  0.000000  0.000000  ...       0.0  0.0  0.030183  0.000000   \n",
       "7999  0.059369  0.000000  0.000000  ...       0.0  0.0  0.077699  0.000000   \n",
       "\n",
       "          youd     youll     young   younger     youre     youve  \n",
       "0     0.000000  0.032639  0.000000  0.033814  0.050403  0.000000  \n",
       "1     0.000000  0.000000  0.035351  0.000000  0.035568  0.059978  \n",
       "2     0.000000  0.000000  0.000000  0.000000  0.114332  0.038559  \n",
       "3     0.000000  0.032154  0.000000  0.000000  0.000000  0.000000  \n",
       "4     0.043874  0.000000  0.000000  0.000000  0.019860  0.000000  \n",
       "...        ...       ...       ...       ...       ...       ...  \n",
       "7995  0.000000  0.000000  0.000000  0.000000  0.027385  0.000000  \n",
       "7996  0.000000  0.000000  0.000000  0.000000  0.000000  0.000000  \n",
       "7997  0.000000  0.075840  0.000000  0.000000  0.019519  0.000000  \n",
       "7998  0.000000  0.000000  0.000000  0.000000  0.000000  0.000000  \n",
       "7999  0.000000  0.037311  0.000000  0.000000  0.019206  0.000000  \n",
       "\n",
       "[8000 rows x 1000 columns]"
      ]
     },
     "execution_count": 20,
     "metadata": {},
     "output_type": "execute_result"
    }
   ],
   "source": [
    "#Displaying the final cleaned document term matrix\n",
    "dtm"
   ]
  },
  {
   "cell_type": "markdown",
   "metadata": {},
   "source": [
    "# Evaluating the Accuarcy Scores of Machine Learning Algorithms on 16 class types"
   ]
  },
  {
   "cell_type": "code",
   "execution_count": 21,
   "metadata": {},
   "outputs": [
    {
     "name": "stdout",
     "output_type": "stream",
     "text": [
      "Accuracy Scores of Machine Learning Models without PCA\n",
      "Naive bayes: 0.57125\n",
      "SVM: 0.77\n",
      "KNN: 0.743125\n",
      "Neural Network: 0.80625\n"
     ]
    }
   ],
   "source": [
    "x=dtm\n",
    "y=df1.type\n",
    "train, test, train_lbl, test_lbl = train_test_split( x, y, test_size=0.2)\n",
    "\n",
    "#Accuracy without PCA\n",
    "print(\"Accuracy Scores of Machine Learning Models without PCA\")\n",
    "#Naive Bayes\n",
    "clf = GaussianNB().fit(train,train_lbl)\n",
    "print(\"Naive bayes:\", clf.score(test,test_lbl))\n",
    "\n",
    "#SVM\n",
    "clf1 = LinearSVC().fit(train,train_lbl)\n",
    "print(\"SVM:\",clf1.score(test,test_lbl))\n",
    "      \n",
    "#KNN\n",
    "clf2 = KNeighborsClassifier(n_neighbors = 1).fit(train,train_lbl)\n",
    "print(\"KNN:\",clf2.score(test,test_lbl))\n",
    "      \n",
    "#Neural Network\n",
    "clf3 = MLPClassifier(random_state=1, max_iter=300).fit(train, train_lbl)\n",
    "print(\"Neural Network:\",clf3.score(test,test_lbl))"
   ]
  },
  {
   "cell_type": "code",
   "execution_count": 22,
   "metadata": {},
   "outputs": [
    {
     "data": {
      "image/png": "[encoded data removed]",
      "text/plain": [
       "<Figure size 432x288 with 1 Axes>"
      ]
     },
     "metadata": {
      "needs_background": "light"
     },
     "output_type": "display_data"
    }
   ],
   "source": [
    "#Graph to view the accuracy scores\n",
    "data = [60.25,77.75,74.31,80.56]\n",
    "labels = ['NB=60.25%','SVM=77.75%','KNN=74.31%','NN=80.56%']\n",
    "plt.xticks(range(len(data)),labels)\n",
    "plt.xlabel('Algorithms')\n",
    "plt.ylabel('Percentage of accuracy')\n",
    "plt.title('Accuracy score before PCA')\n",
    "plt.bar(range(len(data)), data, color =['orange','pink','skyblue','lightgreen'])\n",
    "plt.show()"
   ]
  },
  {
   "cell_type": "markdown",
   "metadata": {},
   "source": [
    "# Feature Extraction using PCA"
   ]
  },
  {
   "cell_type": "code",
   "execution_count": 23,
   "metadata": {},
   "outputs": [],
   "source": [
    "scaler = StandardScaler()\n",
    "# Fit on training set only.\n",
    "scaler.fit(train)\n",
    "# Apply transform to both the training set and the test set.\n",
    "train = scaler.transform(train)\n",
    "test = scaler.transform(test)"
   ]
  },
  {
   "cell_type": "code",
   "execution_count": 24,
   "metadata": {},
   "outputs": [
    {
     "name": "stdout",
     "output_type": "stream",
     "text": [
      "PCA explained ratio: 0.9003452853326889\n",
      "No of components post PCA: 658\n"
     ]
    }
   ],
   "source": [
    "# Make an instance of the Model\n",
    "pca = PCA(.90)\n",
    "pca.fit(train)\n",
    "train_data = pca.transform(train)\n",
    "test_data = pca.transform(test)\n",
    "print(\"PCA explained ratio:\",pca.explained_variance_ratio_.sum())\n",
    "print(\"No of components post PCA:\",pca.n_components_)"
   ]
  },
  {
   "cell_type": "markdown",
   "metadata": {},
   "source": [
    "# Reviewing the performance of 16 type classification post PCA"
   ]
  },
  {
   "cell_type": "code",
   "execution_count": 25,
   "metadata": {},
   "outputs": [
    {
     "name": "stdout",
     "output_type": "stream",
     "text": [
      "Accuracy Scores of Machine Learning Models after PCA\n",
      "Naive bayes: 0.488125\n"
     ]
    },
    {
     "name": "stderr",
     "output_type": "stream",
     "text": [
      "C:\\Users\\pooja\\anaconda3\\lib\\site-packages\\sklearn\\svm\\_base.py:947: ConvergenceWarning: Liblinear failed to converge, increase the number of iterations.\n",
      "  \"the number of iterations.\", ConvergenceWarning)\n"
     ]
    },
    {
     "name": "stdout",
     "output_type": "stream",
     "text": [
      "SVM: 0.761875\n",
      "KNN: 0.735625\n",
      "Neural Network: 0.79375\n"
     ]
    }
   ],
   "source": [
    "#Accuracy after PCA\n",
    "print(\"Accuracy Scores of Machine Learning Models after PCA\")\n",
    "#Naive Bayes\n",
    "clf = GaussianNB().fit(train_data,train_lbl)\n",
    "print(\"Naive bayes:\", clf.score(test_data,test_lbl))\n",
    "\n",
    "#SVM\n",
    "clf1 = LinearSVC().fit(train_data,train_lbl)\n",
    "print(\"SVM:\",clf1.score(test_data,test_lbl))\n",
    "      \n",
    "#KNN\n",
    "clf2 = KNeighborsClassifier(n_neighbors = 1).fit(train_data,train_lbl)\n",
    "print(\"KNN:\",clf2.score(test_data,test_lbl))\n",
    "      \n",
    "#Neural Network\n",
    "clf3 = MLPClassifier(random_state=1, max_iter=300).fit(train_data, train_lbl)\n",
    "print(\"Neural Network:\",clf3.score(test_data,test_lbl))"
   ]
  },
  {
   "cell_type": "code",
   "execution_count": 26,
   "metadata": {},
   "outputs": [
    {
     "data": {
      "image/png": "[encoded data removed]",
      "text/plain": [
       "<Figure size 432x288 with 1 Axes>"
      ]
     },
     "metadata": {
      "needs_background": "light"
     },
     "output_type": "display_data"
    }
   ],
   "source": [
    "#Graph to view the accuracy scores\n",
    "data = [51.56,76.62,73.75,80.75]\n",
    "labels = ['NB=51.56%','SVM=76.62%','KNN=73.75%','NN=80.75%']\n",
    "plt.xticks(range(len(data)),labels)\n",
    "plt.xlabel('Algorithms')\n",
    "plt.ylabel('Percentage of accuracy')\n",
    "plt.title('Accuracy score After PCA')\n",
    "plt.bar(range(len(data)), data, color =['orange','pink','skyblue','lightgreen'])\n",
    "plt.show()"
   ]
  },
  {
   "cell_type": "markdown",
   "metadata": {},
   "source": [
    "# Evaluating the performance of models with 2 pair class types"
   ]
  },
  {
   "cell_type": "code",
   "execution_count": 27,
   "metadata": {},
   "outputs": [
    {
     "name": "stdout",
     "output_type": "stream",
     "text": [
      "Class Type: I-E\n",
      "Naive Bayes: 0.755625\n",
      "SVM: 0.825625\n",
      "KNN: 0.8825\n",
      "Neural Network: 0.899375 \n",
      "\n",
      "Class Type: N-S\n",
      "Naive Bayes: 0.776875\n",
      "SVM: 0.866875\n",
      "KNN: 0.910625\n",
      "Neural Network: 0.930625 \n",
      "\n",
      "Class Type: T-F\n",
      "Naive Bayes: 0.79125\n",
      "SVM: 0.86\n",
      "KNN: 0.860625\n",
      "Neural Network: 0.91625 \n",
      "\n",
      "Class Type: J-P\n",
      "Naive Bayes: 0.7275\n",
      "SVM: 0.803125\n",
      "KNN: 0.8825\n",
      "Neural Network: 0.893125 \n",
      "\n"
     ]
    }
   ],
   "source": [
    "#Evaluating the performace before PCA on 2 pair class types\n",
    "mbti_classes = ['I-E','N-S','T-F','J-P']\n",
    "classifiers =['Naive bayes','SVM','KNN','Neural Network']\n",
    "x=dtm\n",
    "for i in mbti_classes:\n",
    "    y=df1[i]\n",
    "    train, test, train_lbl, test_lbl = train_test_split( x, y, test_size=0.2)\n",
    "    print(\"Class Type:\",i,)\n",
    "    #Naive Bayes\n",
    "    clf1 = GaussianNB().fit(train,train_lbl)\n",
    "    acc1= clf1.score(test,test_lbl)\n",
    "    print(\"Naive Bayes:\",acc1)\n",
    "\n",
    "    #SVM\n",
    "    clf2 = LinearSVC().fit(train,train_lbl)\n",
    "    acc2=clf2.score(test,test_lbl)\n",
    "    print(\"SVM:\",acc2)\n",
    "      \n",
    "    #KNN\n",
    "    clf3 = KNeighborsClassifier(n_neighbors = 1).fit(train,train_lbl)\n",
    "    acc3=clf3.score(test,test_lbl)\n",
    "    print(\"KNN:\",acc3)                                                    \n",
    "      \n",
    "    #Neural Network\n",
    "    clf4 = MLPClassifier(random_state=1, max_iter=300).fit(train, train_lbl)\n",
    "    acc4 =clf4.score(test,test_lbl)\n",
    "    print(\"Neural Network:\",acc4,\"\\n\")\n",
    "        "
   ]
  },
  {
   "cell_type": "markdown",
   "metadata": {},
   "source": [
    "# Classifier Models after PCA on 2 pair class types"
   ]
  },
  {
   "cell_type": "code",
   "execution_count": 28,
   "metadata": {},
   "outputs": [
    {
     "name": "stdout",
     "output_type": "stream",
     "text": [
      "Naive Bayes Classifier\n",
      "Class Type: I-E\n",
      "              precision    recall  f1-score   support\n",
      "\n",
      "Extroversion       0.75      0.73      0.74       788\n",
      "Introversion       0.75      0.76      0.75       812\n",
      "\n",
      "    accuracy                           0.75      1600\n",
      "   macro avg       0.75      0.75      0.75      1600\n",
      "weighted avg       0.75      0.75      0.75      1600\n",
      "\n",
      "Confusion Matrix:\n",
      " [[577 211]\n",
      " [192 620]] \n",
      "\n",
      "Class Type: N-S\n",
      "              precision    recall  f1-score   support\n",
      "\n",
      "   Intuition       0.77      0.81      0.79       802\n",
      "     Sensing       0.80      0.76      0.78       798\n",
      "\n",
      "    accuracy                           0.78      1600\n",
      "   macro avg       0.78      0.78      0.78      1600\n",
      "weighted avg       0.78      0.78      0.78      1600\n",
      "\n",
      "Confusion Matrix:\n",
      " [[648 154]\n",
      " [191 607]] \n",
      "\n",
      "Class Type: T-F\n",
      "              precision    recall  f1-score   support\n",
      "\n",
      "     Feeling       0.80      0.76      0.78       827\n",
      "    Thinking       0.76      0.80      0.78       773\n",
      "\n",
      "    accuracy                           0.78      1600\n",
      "   macro avg       0.78      0.78      0.78      1600\n",
      "weighted avg       0.78      0.78      0.78      1600\n",
      "\n",
      "Confusion Matrix:\n",
      " [[629 198]\n",
      " [153 620]] \n",
      "\n",
      "Class Type: J-P\n",
      "              precision    recall  f1-score   support\n",
      "\n",
      "     Judging       0.75      0.71      0.73       822\n",
      "  Perceiving       0.71      0.75      0.73       778\n",
      "\n",
      "    accuracy                           0.73      1600\n",
      "   macro avg       0.73      0.73      0.73      1600\n",
      "weighted avg       0.73      0.73      0.73      1600\n",
      "\n",
      "Confusion Matrix:\n",
      " [[580 242]\n",
      " [195 583]] \n",
      "\n"
     ]
    }
   ],
   "source": [
    "#NAIVE BAYES ALGORITHM\n",
    "#from sklearn.preprocessing import Normalizer\n",
    "#train_img = Normalizer().fit_transform(train_img)\n",
    "print(\"Naive Bayes Classifier\")\n",
    "x=dtm\n",
    "mbti_classes = ['I-E','N-S','T-F','J-P']\n",
    "for i in mbti_classes:\n",
    "    y=df1[i]\n",
    "    train_data, test_data, train_lbl, test_lbl = train_test_split( x, y, test_size=0.2)\n",
    "    clf = GaussianNB().fit(train_data,train_lbl)\n",
    "    predicted=clf.predict(test_data)\n",
    "    #print(\"Accuracy:\",clf.score(predicted,test_lbl))\n",
    "    print(\"Class Type:\",i)\n",
    "    print(classification_report(test_lbl,predicted))\n",
    "    print(\"Confusion Matrix:\\n\",confusion_matrix(test_lbl,predicted),\"\\n\")\n",
    "   "
   ]
  },
  {
   "cell_type": "code",
   "execution_count": 29,
   "metadata": {},
   "outputs": [
    {
     "data": {
      "image/png": "[encoded data removed]",
      "text/plain": [
       "<Figure size 432x288 with 1 Axes>"
      ]
     },
     "metadata": {
      "needs_background": "light"
     },
     "output_type": "display_data"
    }
   ],
   "source": [
    "data = [75,77,77,73]\n",
    "labels = ['I-E=75%','N-S=77%','T-F=77%','J-P=73%']\n",
    "plt.xticks(range(len(data)),labels)\n",
    "plt.xlabel('Class Types')\n",
    "plt.ylabel('Percentage of accuracy')\n",
    "plt.title('Accuracy score of Naive Bayes model on each class type')\n",
    "plt.bar(range(len(data)), data)\n",
    "plt.show()"
   ]
  },
  {
   "cell_type": "code",
   "execution_count": 30,
   "metadata": {},
   "outputs": [
    {
     "name": "stdout",
     "output_type": "stream",
     "text": [
      "Support Vector Machine\n",
      "Class Type: I-E\n",
      "              precision    recall  f1-score   support\n",
      "\n",
      "Extroversion       0.80      0.86      0.83       785\n",
      "Introversion       0.86      0.80      0.83       815\n",
      "\n",
      "    accuracy                           0.83      1600\n",
      "   macro avg       0.83      0.83      0.83      1600\n",
      "weighted avg       0.83      0.83      0.83      1600\n",
      "\n",
      "Confusion Matrix:\n",
      " [[678 107]\n",
      " [166 649]] \n",
      "\n",
      "Class Type: N-S\n",
      "              precision    recall  f1-score   support\n",
      "\n",
      "   Intuition       0.88      0.83      0.85       797\n",
      "     Sensing       0.84      0.89      0.86       803\n",
      "\n",
      "    accuracy                           0.86      1600\n",
      "   macro avg       0.86      0.86      0.86      1600\n",
      "weighted avg       0.86      0.86      0.86      1600\n",
      "\n",
      "Confusion Matrix:\n",
      " [[661 136]\n",
      " [ 92 711]] \n",
      "\n",
      "Class Type: T-F\n",
      "              precision    recall  f1-score   support\n",
      "\n",
      "     Feeling       0.88      0.86      0.87       816\n",
      "    Thinking       0.86      0.88      0.87       784\n",
      "\n",
      "    accuracy                           0.87      1600\n",
      "   macro avg       0.87      0.87      0.87      1600\n",
      "weighted avg       0.87      0.87      0.87      1600\n",
      "\n",
      "Confusion Matrix:\n",
      " [[702 114]\n",
      " [ 96 688]] \n",
      "\n",
      "Class Type: J-P\n",
      "              precision    recall  f1-score   support\n",
      "\n",
      "     Judging       0.80      0.80      0.80       776\n",
      "  Perceiving       0.81      0.81      0.81       824\n",
      "\n",
      "    accuracy                           0.81      1600\n",
      "   macro avg       0.81      0.81      0.81      1600\n",
      "weighted avg       0.81      0.81      0.81      1600\n",
      "\n",
      "Confusion Matrix:\n",
      " [[624 152]\n",
      " [158 666]] \n",
      "\n"
     ]
    }
   ],
   "source": [
    "#Support Vector Machine\n",
    "\n",
    "print(\"Support Vector Machine\")\n",
    "x=dtm\n",
    "mbti_classes = ['I-E','N-S','T-F','J-P']\n",
    "for i in mbti_classes:\n",
    "    y=df1[i]\n",
    "    train_data, test_data, train_lbl, test_lbl = train_test_split( x, y, test_size=0.2)\n",
    "    clf1 = LinearSVC().fit(train_data,train_lbl)\n",
    "    predicted1=clf1.predict(test_data)\n",
    "    #print(\"Accuracy:\",clf.score(predicted,test_lbl))\n",
    "    print(\"Class Type:\",i)\n",
    "    print(classification_report(test_lbl,predicted1))\n",
    "    print(\"Confusion Matrix:\\n\",confusion_matrix(test_lbl,predicted1),\"\\n\")\n"
   ]
  },
  {
   "cell_type": "code",
   "execution_count": 31,
   "metadata": {},
   "outputs": [
    {
     "data": {
      "image/png": "[encoded data removed]",
      "text/plain": [
       "<Figure size 432x288 with 1 Axes>"
      ]
     },
     "metadata": {
      "needs_background": "light"
     },
     "output_type": "display_data"
    }
   ],
   "source": [
    "data = [84,85,88,83]\n",
    "labels = ['I-E=84%','N-S=85%','T-F=88%','J-P=83%']\n",
    "plt.xticks(range(len(data)),labels)\n",
    "plt.xlabel('Class Types')\n",
    "plt.ylabel('Percentage of accuracy')\n",
    "plt.title('Accuracy score of SVM model on each class type')\n",
    "plt.bar(range(len(data)), data)\n",
    "plt.show()"
   ]
  },
  {
   "cell_type": "code",
   "execution_count": 32,
   "metadata": {},
   "outputs": [
    {
     "name": "stdout",
     "output_type": "stream",
     "text": [
      "K-Nearest Neighbour\n",
      "Class Type: I-E\n",
      "              precision    recall  f1-score   support\n",
      "\n",
      "Extroversion       0.75      0.92      0.82       783\n",
      "Introversion       0.90      0.70      0.79       817\n",
      "\n",
      "    accuracy                           0.81      1600\n",
      "   macro avg       0.82      0.81      0.81      1600\n",
      "weighted avg       0.83      0.81      0.81      1600\n",
      "\n",
      "Confusion Matrix:\n",
      " [[722  61]\n",
      " [247 570]] \n",
      "\n",
      "Class Type: N-S\n",
      "              precision    recall  f1-score   support\n",
      "\n",
      "   Intuition       0.84      0.92      0.88       799\n",
      "     Sensing       0.91      0.83      0.87       801\n",
      "\n",
      "    accuracy                           0.88      1600\n",
      "   macro avg       0.88      0.88      0.88      1600\n",
      "weighted avg       0.88      0.88      0.88      1600\n",
      "\n",
      "Confusion Matrix:\n",
      " [[735  64]\n",
      " [135 666]] \n",
      "\n",
      "Class Type: T-F\n",
      "              precision    recall  f1-score   support\n",
      "\n",
      "     Feeling       0.78      0.94      0.85       801\n",
      "    Thinking       0.92      0.73      0.81       799\n",
      "\n",
      "    accuracy                           0.83      1600\n",
      "   macro avg       0.85      0.83      0.83      1600\n",
      "weighted avg       0.85      0.83      0.83      1600\n",
      "\n",
      "Confusion Matrix:\n",
      " [[753  48]\n",
      " [218 581]] \n",
      "\n",
      "Class Type: J-P\n",
      "              precision    recall  f1-score   support\n",
      "\n",
      "     Judging       0.76      0.92      0.83       797\n",
      "  Perceiving       0.90      0.72      0.80       803\n",
      "\n",
      "    accuracy                           0.82      1600\n",
      "   macro avg       0.83      0.82      0.82      1600\n",
      "weighted avg       0.83      0.82      0.82      1600\n",
      "\n",
      "Confusion Matrix:\n",
      " [[733  64]\n",
      " [228 575]] \n",
      "\n"
     ]
    }
   ],
   "source": [
    "print(\"K-Nearest Neighbour\")\n",
    "x=dtm\n",
    "mbti_classes = ['I-E','N-S','T-F','J-P']\n",
    "for i in mbti_classes:\n",
    "    y=df1[i]\n",
    "    train_data, test_data, train_lbl, test_lbl = train_test_split( x, y, test_size=0.2)\n",
    "    clf2 = KNeighborsClassifier(n_neighbors=2).fit(train_data,train_lbl)\n",
    "    predicted2=clf2.predict(test_data)\n",
    "    #print(\"Accuracy:\",clf.score(predicted,test_lbl))\n",
    "    print(\"Class Type:\",i)\n",
    "    print(classification_report(test_lbl,predicted2))\n",
    "    print(\"Confusion Matrix:\\n\",confusion_matrix(test_lbl,predicted2),\"\\n\")\n",
    "\n"
   ]
  },
  {
   "cell_type": "code",
   "execution_count": 33,
   "metadata": {},
   "outputs": [
    {
     "data": {
      "image/png": "[encoded data removed]",
      "text/plain": [
       "<Figure size 432x288 with 1 Axes>"
      ]
     },
     "metadata": {
      "needs_background": "light"
     },
     "output_type": "display_data"
    }
   ],
   "source": [
    "data = [83,87,81,80]\n",
    "labels = ['I-E=83%','N-S=87%','T-F=81%','J-P=80%']\n",
    "plt.xticks(range(len(data)),labels)\n",
    "plt.xlabel('Class Types')\n",
    "plt.ylabel('Percentage of accuracy')\n",
    "plt.title('Accuracy score of KNN model on each class type')\n",
    "plt.bar(range(len(data)), data)\n",
    "plt.show()"
   ]
  },
  {
   "cell_type": "code",
   "execution_count": null,
   "metadata": {},
   "outputs": [
    {
     "name": "stdout",
     "output_type": "stream",
     "text": [
      "Neural Network\n"
     ]
    }
   ],
   "source": [
    "print(\"Neural Network\")\n",
    "x=dtm\n",
    "mbti_classes = ['I-E','N-S','T-F','J-P']\n",
    "for i in mbti_classes:\n",
    "    y=df1[i]\n",
    "    train_data, test_data, train_lbl, test_lbl = train_test_split( x, y, test_size=0.2)\n",
    "    clf3 = MLPClassifier().fit(train_data,train_lbl)\n",
    "    predicted3=clf3.predict(test_data)\n",
    "    #print(\"Accuracy:\",clf.score(predicted,test_lbl))\n",
    "    print(\"Class Type:\",i)\n",
    "    print(classification_report(test_lbl,predicted3))\n",
    "    print(\"Confusion Matrix:\\n\",confusion_matrix(test_lbl,predicted3),\"\\n\")\n",
    "\n"
   ]
  },
  {
   "cell_type": "code",
   "execution_count": null,
   "metadata": {},
   "outputs": [],
   "source": [
    "data = [91,93,92,90]\n",
    "labels = ['I-E=91%','N-S=93%','T-F=92%','J-P=90%']\n",
    "plt.xticks(range(len(data)),labels)\n",
    "plt.xlabel('Class Types')\n",
    "plt.ylabel('Percentage of accuracy')\n",
    "plt.title('Accuracy score of Neural Network model on each class type')\n",
    "plt.bar(range(len(data)), data)\n",
    "plt.show()"
   ]
  },
  {
   "cell_type": "code",
   "execution_count": null,
   "metadata": {},
   "outputs": [],
   "source": [
    "N = 4\n",
    "IE = (75,84,83,91)\n",
    "NS = (77,85,87,93)\n",
    "TF = (77,88,81,92)\n",
    "JP = (73,83,80,90)\n",
    "ind = np.arange(N) \n",
    "width = 0.10       \n",
    "plt.bar(ind,IE, width, label='IE')\n",
    "plt.bar(ind + width, NS, width,\n",
    "    label='NS')\n",
    "plt.bar(ind+width+width,TF,width,label='TF')\n",
    "plt.bar(ind+width+width+width,JP,width,label='JP')\n",
    "plt.ylabel('Class Types')\n",
    "plt.title('Accuracy Scores of Class Types for each classifier')\n",
    "\n",
    "plt.xticks(ind + width / 4, ('Naive Bayes', 'SVM', 'KNN', 'Neural network'))\n",
    "plt.legend(loc='upper center')\n",
    "plt.rcParams['figure.figsize']=(10,6)\n",
    "plt.show()"
   ]
  }
 ],
 "metadata": {
  "kernelspec": {
   "display_name": "Python 3",
   "language": "python",
   "name": "python3"
  },
  "language_info": {
   "codemirror_mode": {
    "name": "ipython",
    "version": 3
   },
   "file_extension": ".py",
   "mimetype": "text/x-python",
   "name": "python",
   "nbconvert_exporter": "python",
   "pygments_lexer": "ipython3",
   "version": "3.7.6"
  }
 },
 "nbformat": 4,
 "nbformat_minor": 4
}
